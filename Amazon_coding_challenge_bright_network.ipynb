{
  "nbformat": 4,
  "nbformat_minor": 0,
  "metadata": {
    "colab": {
      "name": "Amazon_coding_challenge_bright_network.ipynb",
      "provenance": [],
      "collapsed_sections": []
    },
    "kernelspec": {
      "name": "python3",
      "display_name": "Python 3"
    },
    "language_info": {
      "name": "python"
    }
  },
  "cells": [
    {
      "cell_type": "code",
      "execution_count": null,
      "metadata": {
        "id": "5PLW0P_5ubYD"
      },
      "outputs": [],
      "source": [
        "pip install pathfinding"
      ]
    },
    {
      "cell_type": "code",
      "source": [
        "#Phase 1\n",
        "from pathfinding.core.grid import Grid\n",
        "from pathfinding.finder.a_star import AStarFinder\n",
        "from pathfinding.core.diagonal_movement import DiagonalMovement\n",
        "\n",
        "matrix = [\n",
        "          [1,1,1,1,1,1,1,1,1,1],\n",
        "          [1,1,1,1,1,1,1,1,1,1],\n",
        "          [1,1,1,1,1,1,1,1,1,1],\n",
        "          [1,1,1,1,1,1,1,1,1,1],\n",
        "          [1,1,1,1,1,1,1,1,1,1],\n",
        "          [1,1,1,1,1,1,1,1,1,1],\n",
        "          [1,1,1,1,1,1,1,1,1,1],\n",
        "          [1,1,1,1,1,1,0,1,0,0],\n",
        "          [1,1,1,1,1,1,0,1,1,1],\n",
        "          [1,1,1,1,1,1,1,1,1,1]\n",
        "]\n",
        "\n",
        "grid = Grid(matrix = matrix)\n",
        "\n",
        "start = grid.node(0,0)\n",
        "end = grid.node(9,9)\n",
        "\n",
        "finder = AStarFinder(diagonal_movement = DiagonalMovement.always)\n",
        "\n",
        "path,runs = finder.find_path(start,end,grid)\n",
        "\n",
        "print(path)\n",
        "print(runs)"
      ],
      "metadata": {
        "id": "pJaqe8jkyaH9"
      },
      "execution_count": null,
      "outputs": []
    },
    {
      "cell_type": "code",
      "source": [
        "# Phase 2\n",
        "import numpy as np\n",
        "from pathfinding.core.grid import Grid\n",
        "from pathfinding.finder.a_star import AStarFinder\n",
        "from pathfinding.core.diagonal_movement import DiagonalMovement\n",
        "matrix = [\n",
        "          [1,1,1,1,1,1,1,1,1,1],\n",
        "          [1,1,1,1,1,1,1,1,1,1],\n",
        "          [1,1,1,1,1,1,1,1,1,1],\n",
        "          [1,1,1,1,1,1,1,1,1,1],\n",
        "          [1,1,1,1,1,1,1,1,1,1],\n",
        "          [1,1,1,1,1,1,1,1,1,1],\n",
        "          [1,1,1,1,1,1,1,1,1,1],\n",
        "          [1,1,1,1,1,1,0,1,0,0],\n",
        "          [1,1,1,1,1,1,0,1,1,1],\n",
        "          [1,1,1,1,1,1,1,1,1,1]\n",
        "]\n",
        "\n",
        "\n",
        "while True:\n",
        "  arr2 = np.array(matrix)\n",
        "  print(\"Before Replacement\")\n",
        "  print(arr2)\n",
        "\n",
        "  # Number of elements to replace\n",
        "  num_replaced = 20 \n",
        "\n",
        "  # Random (x, y) coordinates\n",
        "  indices_x = np.random.randint(0, arr2.shape[0], num_replaced)\n",
        "  indices_y = np.random.randint(0, arr2.shape[1], num_replaced)\n",
        "\n",
        "  arr2[indices_x, indices_y] = 0\n",
        "  print(\"After replacement\")\n",
        "  print(arr2)\n",
        "  if (arr2[0,0] == 1 and arr2[9,9] == 1):\n",
        "    break\n",
        "\n",
        "\n",
        "\n",
        "\n",
        "\n",
        "result = np.where(arr2 == 0)\n",
        "listOfCoordinates= list(zip(result[1], result[0]))\n",
        "for cord in listOfCoordinates:\n",
        "  print(cord)\n",
        "\n",
        "\n",
        "\n",
        "grid = Grid(matrix = arr2)\n",
        "\n",
        "start = grid.node(0,0)\n",
        "end = grid.node(9,9)\n",
        "\n",
        "finder = AStarFinder(diagonal_movement = DiagonalMovement.always)\n",
        "\n",
        "path,runs = finder.find_path(start,end,grid)\n",
        "\n",
        "print(path)\n",
        "print(runs)\n",
        "\n"
      ],
      "metadata": {
        "id": "NTMgQtjPB2GJ"
      },
      "execution_count": null,
      "outputs": []
    }
  ]
}